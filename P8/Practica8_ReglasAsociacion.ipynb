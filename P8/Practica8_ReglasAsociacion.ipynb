{
 "cells": [
  {
   "cell_type": "code",
   "execution_count": 3,
   "metadata": {},
   "outputs": [
    {
     "name": "stdout",
     "output_type": "stream",
     "text": [
      "Collecting apyori\n",
      "  Downloading apyori-1.1.2.tar.gz (8.6 kB)\n",
      "  Preparing metadata (setup.py) ... \u001b[?25ldone\n",
      "\u001b[?25hBuilding wheels for collected packages: apyori\n",
      "  Building wheel for apyori (setup.py) ... \u001b[?25ldone\n",
      "\u001b[?25h  Created wheel for apyori: filename=apyori-1.1.2-py3-none-any.whl size=5974 sha256=caeaf10ee3276675aa39d8a69bd8afce0692a00aad367543959de34f1ba1da38\n",
      "  Stored in directory: /home/jovyan/.cache/pip/wheels/32/2a/54/10c595515f385f3726642b10c60bf788029e8f3a1323e3913a\n",
      "Successfully built apyori\n",
      "Installing collected packages: apyori\n",
      "Successfully installed apyori-1.1.2\n"
     ]
    }
   ],
   "source": [
    "!pip install apyori"
   ]
  },
  {
   "cell_type": "code",
   "execution_count": 4,
   "metadata": {},
   "outputs": [],
   "source": [
    "import pandas as pd\n",
    "from apyori import apriori\n",
    "\n",
    "df = pd.read_table('cesta_compra2.csv', header=None)\n",
    "df = df[0].str.split(',', 2, expand=True)\n",
    "df.columns = df.iloc[0]\n",
    "df = df[1:]"
   ]
  },
  {
   "cell_type": "code",
   "execution_count": 5,
   "metadata": {},
   "outputs": [
    {
     "name": "stdout",
     "output_type": "stream",
     "text": [
      "<class 'pandas.core.frame.DataFrame'>\n",
      "RangeIndex: 14963 entries, 1 to 14963\n",
      "Data columns (total 3 columns):\n",
      " #   Column   Non-Null Count  Dtype \n",
      "---  ------   --------------  ----- \n",
      " 0   Usuario  14963 non-null  object\n",
      " 1   Fecha    14963 non-null  object\n",
      " 2   Item     14963 non-null  object\n",
      "dtypes: object(3)\n",
      "memory usage: 350.8+ KB\n"
     ]
    }
   ],
   "source": [
    "df.info()"
   ]
  },
  {
   "cell_type": "code",
   "execution_count": 6,
   "metadata": {},
   "outputs": [
    {
     "data": {
      "text/html": [
       "<div>\n",
       "<style scoped>\n",
       "    .dataframe tbody tr th:only-of-type {\n",
       "        vertical-align: middle;\n",
       "    }\n",
       "\n",
       "    .dataframe tbody tr th {\n",
       "        vertical-align: top;\n",
       "    }\n",
       "\n",
       "    .dataframe thead th {\n",
       "        text-align: right;\n",
       "    }\n",
       "</style>\n",
       "<table border=\"1\" class=\"dataframe\">\n",
       "  <thead>\n",
       "    <tr style=\"text-align: right;\">\n",
       "      <th></th>\n",
       "      <th>Usuario</th>\n",
       "      <th>Fecha</th>\n",
       "      <th>Item</th>\n",
       "    </tr>\n",
       "  </thead>\n",
       "  <tbody>\n",
       "    <tr>\n",
       "      <th>1</th>\n",
       "      <td>0440</td>\n",
       "      <td>2020-07-14</td>\n",
       "      <td>leche entera,chocolate</td>\n",
       "    </tr>\n",
       "    <tr>\n",
       "      <th>2</th>\n",
       "      <td>0440</td>\n",
       "      <td>2020-07-26</td>\n",
       "      <td>bollos,bollos</td>\n",
       "    </tr>\n",
       "    <tr>\n",
       "      <th>3</th>\n",
       "      <td>0440</td>\n",
       "      <td>2021-09-06</td>\n",
       "      <td>bolsas de compra,bolsas de compra</td>\n",
       "    </tr>\n",
       "    <tr>\n",
       "      <th>4</th>\n",
       "      <td>0440</td>\n",
       "      <td>2020-01-01</td>\n",
       "      <td>otros vegetales,yogurt</td>\n",
       "    </tr>\n",
       "    <tr>\n",
       "      <th>5</th>\n",
       "      <td>0440</td>\n",
       "      <td>2020-01-06</td>\n",
       "      <td>frutas tropicales,zumo de frutas</td>\n",
       "    </tr>\n",
       "  </tbody>\n",
       "</table>\n",
       "</div>"
      ],
      "text/plain": [
       "0 Usuario       Fecha                               Item\n",
       "1    0440  2020-07-14             leche entera,chocolate\n",
       "2    0440  2020-07-26                      bollos,bollos\n",
       "3    0440  2021-09-06  bolsas de compra,bolsas de compra\n",
       "4    0440  2020-01-01             otros vegetales,yogurt\n",
       "5    0440  2020-01-06   frutas tropicales,zumo de frutas"
      ]
     },
     "execution_count": 6,
     "metadata": {},
     "output_type": "execute_result"
    }
   ],
   "source": [
    "df.head()"
   ]
  },
  {
   "cell_type": "code",
   "execution_count": 14,
   "metadata": {},
   "outputs": [],
   "source": [
    "List = []\n",
    "\n",
    "for k in range(14963):\n",
    "    List.append(df['Item'][k+1].split(','))\n",
    "    \n",
    "ResultadoApyori = apriori(List, min_support=0.001, min_confidence=0.1, min_lift=1.25)\n",
    "ListApyori = list(ResultadoApyori)"
   ]
  },
  {
   "cell_type": "code",
   "execution_count": 15,
   "metadata": {},
   "outputs": [],
   "source": [
    "def ReglasAsociacion(ListApyori):\n",
    "    \n",
    "    MotivoCompra = [tuple(ResultadoApyori [2][0][0]) for ResultadoApyori  in ListApyori ]\n",
    "    RazonCompra = [tuple(ResultadoApyori [2][0][1]) for ResultadoApyori  in ListApyori ]\n",
    "    \n",
    "    Soporte = [ResultadoApyori [1] for ResultadoApyori  in ListApyori]\n",
    "    \n",
    "    Confianza = [ResultadoApyori [2][0][2] for ResultadoApyori  in ListApyori ]\n",
    "    Lift = [ResultadoApyori [2][0][3] for ResultadoApyori  in ListApyori]\n",
    "    \n",
    "    return list(zip(MotivoCompra, RazonCompra, Soporte, Confianza, Lift))"
   ]
  },
  {
   "cell_type": "code",
   "execution_count": 16,
   "metadata": {},
   "outputs": [
    {
     "data": {
      "text/html": [
       "<div>\n",
       "<style scoped>\n",
       "    .dataframe tbody tr th:only-of-type {\n",
       "        vertical-align: middle;\n",
       "    }\n",
       "\n",
       "    .dataframe tbody tr th {\n",
       "        vertical-align: top;\n",
       "    }\n",
       "\n",
       "    .dataframe thead th {\n",
       "        text-align: right;\n",
       "    }\n",
       "</style>\n",
       "<table border=\"1\" class=\"dataframe\">\n",
       "  <thead>\n",
       "    <tr style=\"text-align: right;\">\n",
       "      <th></th>\n",
       "      <th>| O motivo da compra deste producto</th>\n",
       "      <th>está condiconada por esta |</th>\n",
       "      <th>Soporte</th>\n",
       "      <th>Confianza</th>\n",
       "      <th>Lift</th>\n",
       "    </tr>\n",
       "  </thead>\n",
       "  <tbody>\n",
       "    <tr>\n",
       "      <th>0</th>\n",
       "      <td>(frutas empaquetadas,)</td>\n",
       "      <td>(bollos,)</td>\n",
       "      <td>0.001203</td>\n",
       "      <td>0.141732</td>\n",
       "      <td>1.288421</td>\n",
       "    </tr>\n",
       "    <tr>\n",
       "      <th>1</th>\n",
       "      <td>(productos de temporada,)</td>\n",
       "      <td>(bollos,)</td>\n",
       "      <td>0.001002</td>\n",
       "      <td>0.141509</td>\n",
       "      <td>1.286395</td>\n",
       "    </tr>\n",
       "    <tr>\n",
       "      <th>2</th>\n",
       "      <td>(queso gratinar,)</td>\n",
       "      <td>(bollos,)</td>\n",
       "      <td>0.001470</td>\n",
       "      <td>0.144737</td>\n",
       "      <td>1.315734</td>\n",
       "    </tr>\n",
       "    <tr>\n",
       "      <th>3</th>\n",
       "      <td>(chicle,)</td>\n",
       "      <td>(yogurt,)</td>\n",
       "      <td>0.001403</td>\n",
       "      <td>0.116667</td>\n",
       "      <td>1.358508</td>\n",
       "    </tr>\n",
       "    <tr>\n",
       "      <th>4</th>\n",
       "      <td>(detergente,)</td>\n",
       "      <td>(yogurt,)</td>\n",
       "      <td>0.001069</td>\n",
       "      <td>0.124031</td>\n",
       "      <td>1.444261</td>\n",
       "    </tr>\n",
       "    <tr>\n",
       "      <th>5</th>\n",
       "      <td>(harina,)</td>\n",
       "      <td>(frutas tropicales,)</td>\n",
       "      <td>0.001069</td>\n",
       "      <td>0.109589</td>\n",
       "      <td>1.617141</td>\n",
       "    </tr>\n",
       "    <tr>\n",
       "      <th>6</th>\n",
       "      <td>(queso gratinar,)</td>\n",
       "      <td>(hortalizas,)</td>\n",
       "      <td>0.001069</td>\n",
       "      <td>0.105263</td>\n",
       "      <td>1.513019</td>\n",
       "    </tr>\n",
       "    <tr>\n",
       "      <th>7</th>\n",
       "      <td>(infusiones,)</td>\n",
       "      <td>(yogurt,)</td>\n",
       "      <td>0.001136</td>\n",
       "      <td>0.107595</td>\n",
       "      <td>1.252874</td>\n",
       "    </tr>\n",
       "    <tr>\n",
       "      <th>8</th>\n",
       "      <td>(queso freco,)</td>\n",
       "      <td>(yogurt,)</td>\n",
       "      <td>0.001270</td>\n",
       "      <td>0.126667</td>\n",
       "      <td>1.474952</td>\n",
       "    </tr>\n",
       "    <tr>\n",
       "      <th>9</th>\n",
       "      <td>(bollos, salchichas)</td>\n",
       "      <td>(leche entera,)</td>\n",
       "      <td>0.001136</td>\n",
       "      <td>0.212500</td>\n",
       "      <td>1.345594</td>\n",
       "    </tr>\n",
       "    <tr>\n",
       "      <th>10</th>\n",
       "      <td>(leche entera, salchichas)</td>\n",
       "      <td>(yogurt,)</td>\n",
       "      <td>0.001470</td>\n",
       "      <td>0.164179</td>\n",
       "      <td>1.911760</td>\n",
       "    </tr>\n",
       "  </tbody>\n",
       "</table>\n",
       "</div>"
      ],
      "text/plain": [
       "   | O motivo da compra deste producto  está condiconada por esta |   Soporte  \\\n",
       "0                (frutas empaquetadas,)                   (bollos,)  0.001203   \n",
       "1             (productos de temporada,)                   (bollos,)  0.001002   \n",
       "2                     (queso gratinar,)                   (bollos,)  0.001470   \n",
       "3                             (chicle,)                   (yogurt,)  0.001403   \n",
       "4                         (detergente,)                   (yogurt,)  0.001069   \n",
       "5                             (harina,)        (frutas tropicales,)  0.001069   \n",
       "6                     (queso gratinar,)               (hortalizas,)  0.001069   \n",
       "7                         (infusiones,)                   (yogurt,)  0.001136   \n",
       "8                        (queso freco,)                   (yogurt,)  0.001270   \n",
       "9                  (bollos, salchichas)             (leche entera,)  0.001136   \n",
       "10           (leche entera, salchichas)                   (yogurt,)  0.001470   \n",
       "\n",
       "    Confianza      Lift  \n",
       "0    0.141732  1.288421  \n",
       "1    0.141509  1.286395  \n",
       "2    0.144737  1.315734  \n",
       "3    0.116667  1.358508  \n",
       "4    0.124031  1.444261  \n",
       "5    0.109589  1.617141  \n",
       "6    0.105263  1.513019  \n",
       "7    0.107595  1.252874  \n",
       "8    0.126667  1.474952  \n",
       "9    0.212500  1.345594  \n",
       "10   0.164179  1.911760  "
      ]
     },
     "execution_count": 16,
     "metadata": {},
     "output_type": "execute_result"
    }
   ],
   "source": [
    "\n",
    "pd.DataFrame(ReglasAsociacion(ListApyori), columns = ['| O motivo da compra deste producto ' , 'está condiconada por esta |', 'Soporte', 'Confianza', 'Lift'])\n",
    "\n",
    "\n"
   ]
  },
  {
   "cell_type": "code",
   "execution_count": null,
   "metadata": {},
   "outputs": [],
   "source": []
  },
  {
   "cell_type": "code",
   "execution_count": null,
   "metadata": {},
   "outputs": [],
   "source": []
  }
 ],
 "metadata": {
  "kernelspec": {
   "display_name": "Python 3 (ipykernel)",
   "language": "python",
   "name": "python3"
  },
  "language_info": {
   "codemirror_mode": {
    "name": "ipython",
    "version": 3
   },
   "file_extension": ".py",
   "mimetype": "text/x-python",
   "name": "python",
   "nbconvert_exporter": "python",
   "pygments_lexer": "ipython3",
   "version": "3.9.7"
  },
  "vscode": {
   "interpreter": {
    "hash": "796a2b5adaaa842c9b78e62f6009df4de6b28861ed15d27911e5c87767f65f4d"
   }
  }
 },
 "nbformat": 4,
 "nbformat_minor": 2
}
